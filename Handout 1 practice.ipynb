{
 "cells": [
  {
   "cell_type": "code",
   "execution_count": 6,
   "id": "1ff3e3cb",
   "metadata": {},
   "outputs": [
    {
     "name": "stdout",
     "output_type": "stream",
     "text": [
      "The updated account balance as a result of a cash deposit of 5400.000000 is 17400.560000\n",
      "the lastest passenger count is  53\n"
     ]
    }
   ],
   "source": [
    "accountbalance = 12000.56\n",
    "cashdeposit = 5400.00 \n",
    "accountbalance = accountbalance+cashdeposit\n",
    "print(\"The updated account balance as a result of a cash deposit of %f is %f\"%(cashdeposit,accountbalance))\n",
    "\n",
    "passengercount=45\n",
    "newboardess=8\n",
    "passengercount +=newboardess\n",
    "print (\"the lastest passenger count is \", passengercount)"
   ]
  },
  {
   "cell_type": "code",
   "execution_count": 8,
   "id": "f799de06",
   "metadata": {},
   "outputs": [
    {
     "name": "stdout",
     "output_type": "stream",
     "text": [
      "The updated account balance as a result of a cash withdrawl of 5400.000000 is 6600.560000\n",
      "the lastest passenger count is  37\n"
     ]
    }
   ],
   "source": [
    "accountbalance - 12000.56\n",
    "cashwithdrawl = 5400.000\n",
    "accountbalance = accountbalance - cashwithdrawl \n",
    "print(\"The updated account balance as a result of a cash withdrawl of %f is %f\"%(cashwithdrawl,accountbalance))\n",
    "\n",
    "passengercount=45\n",
    "alighters=8\n",
    "passengercount -=alighters\n",
    "print (\"the lastest passenger count is \", passengercount)\n"
   ]
  },
  {
   "cell_type": "code",
   "execution_count": 15,
   "id": "8dd40007",
   "metadata": {},
   "outputs": [
    {
     "name": "stdout",
     "output_type": "stream",
     "text": [
      "162000.0\n",
      "186300.0\n",
      "7714285.714285715\n",
      "2666.6666666666665\n"
     ]
    }
   ],
   "source": [
    "population = 120000\n",
    "multfactor = 1.35\n",
    "population = population*multfactor\n",
    "print(population)\n",
    "multfactor = 1.15\n",
    "population *=multfactor\n",
    "print(population)\n",
    "\n",
    "estateworth = 54000000\n",
    "noofinheritors = 7\n",
    "shareperinheritor = estateworth/noofinheritors\n",
    "print(shareperinheritor)\n",
    "\n",
    "employecount=8000\n",
    "reduction = 3\n",
    "employecount/=reduction\n",
    "print (employecount)"
   ]
  },
  {
   "cell_type": "code",
   "execution_count": 18,
   "id": "867e86e2",
   "metadata": {},
   "outputs": [
    {
     "name": "stdout",
     "output_type": "stream",
     "text": [
      "2510 volunteers will be assigned to every camp, leaving 3 unassigned volunteers\n",
      "validating orginal volunteer count  10043\n"
     ]
    }
   ],
   "source": [
    "noOfVolunteers = 10043\n",
    "numberOfCamps = 4\n",
    "vlntPerCamp = noOfVolunteers//numberOfCamps\n",
    "excessvolunteers = noOfVolunteers%numberOfCamps\n",
    "print(\"%d volunteers will be assigned to every camp, leaving %d unassigned volunteers\"%(vlntPerCamp,excessvolunteers))\n",
    "print(\"validating orginal volunteer count \",noOfVolunteers)"
   ]
  },
  {
   "cell_type": "code",
   "execution_count": 22,
   "id": "9c24c9da",
   "metadata": {},
   "outputs": [
    {
     "name": "stdout",
     "output_type": "stream",
     "text": [
      "137.25827743044047\n"
     ]
    },
    {
     "data": {
      "text/plain": [
       "137.26"
      ]
     },
     "execution_count": 22,
     "metadata": {},
     "output_type": "execute_result"
    }
   ],
   "source": [
    "import math\n",
    "radiusofsphere = 3.2\n",
    "volume = (4/3)*(math.pi)*(radiusofsphere**3)\n",
    "print(volume)\n",
    "round(volume,2)"
   ]
  },
  {
   "cell_type": "code",
   "execution_count": 26,
   "id": "252ab524",
   "metadata": {},
   "outputs": [
    {
     "name": "stdout",
     "output_type": "stream",
     "text": [
      "muskan_mundra@gmail.com\n",
      "abcabcabc\n"
     ]
    }
   ],
   "source": [
    "userID = \"muskan_mundra\"\n",
    "emailID = userID + \"@gmail.com\"\n",
    "print(emailID)\n",
    "print(\"abc\"*3)"
   ]
  },
  {
   "cell_type": "code",
   "execution_count": 27,
   "id": "9f8f00a6",
   "metadata": {},
   "outputs": [],
   "source": [
    "import random"
   ]
  },
  {
   "cell_type": "code",
   "execution_count": 38,
   "id": "b20e1ceb",
   "metadata": {},
   "outputs": [
    {
     "name": "stdout",
     "output_type": "stream",
     "text": [
      "the temp on monday was 25, the temperature on tueday was 29\n",
      "was monday hotter than tuesday? Ans: False \n",
      "\n",
      "was monday cooler than tuesday? Ans: True \n",
      "\n"
     ]
    }
   ],
   "source": [
    "mondaytemp = random.randint(23,35)\n",
    "tuesdaytemp = random.randint(23,35)\n",
    "print(\"the temp on monday was %d, the temperature on tueday was %d\"%(mondaytemp,tuesdaytemp))\n",
    "result = mondaytemp>tuesdaytemp\n",
    "print(\"was monday hotter than tuesday? Ans: %s \\n\" %result)\n",
    "result = mondaytemp<tuesdaytemp\n",
    "print(\"was monday cooler than tuesday? Ans: %s \\n\" %result)"
   ]
  },
  {
   "cell_type": "code",
   "execution_count": 43,
   "id": "570291ee",
   "metadata": {},
   "outputs": [
    {
     "name": "stdout",
     "output_type": "stream",
     "text": [
      "your age is 35 years, her age of 48 years \n",
      "Are the two of you of the same age? Ans: False\n",
      "Are you older than her? Aans: False\n",
      "Are you younger than her? Ans: True\n"
     ]
    }
   ],
   "source": [
    "yourAge = random.randint(30,50)\n",
    "herAge = random.randint(30,50)\n",
    "print(\"your age is %d years, her age of %d years \" %(yourAge,herAge))\n",
    "result = yourAge == herAge\n",
    "print(\"Are the two of you of the same age? Ans: %s\"%result)\n",
    "result= yourAge>=herAge\n",
    "print(\"Are you older than her? Aans: %s\" %result)\n",
    "result=yourAge<=herAge\n",
    "print(\"Are you younger than her? Ans: %s\"%result)"
   ]
  },
  {
   "cell_type": "code",
   "execution_count": 46,
   "id": "baccd9c9",
   "metadata": {},
   "outputs": [
    {
     "name": "stdout",
     "output_type": "stream",
     "text": [
      "True\n",
      "True\n"
     ]
    }
   ],
   "source": [
    "import random\n",
    "age = 67\n",
    "weight = 66\n",
    "imcome = 12342\n",
    "height = 66\n",
    "selected = (weight>=50) and (height >=66)\n",
    "print(selected)\n",
    "acceptable = (not weight >=90)\n",
    "print(acceptable)"
   ]
  },
  {
   "cell_type": "code",
   "execution_count": 47,
   "id": "81f70e33",
   "metadata": {},
   "outputs": [
    {
     "name": "stdout",
     "output_type": "stream",
     "text": [
      "the answer is False\n"
     ]
    }
   ],
   "source": [
    "age = 49\n",
    "result = (age>50)\n",
    "print('the answer is %s'%result)"
   ]
  },
  {
   "cell_type": "code",
   "execution_count": 50,
   "id": "3842f494",
   "metadata": {},
   "outputs": [
    {
     "name": "stdout",
     "output_type": "stream",
     "text": [
      "True\n"
     ]
    }
   ],
   "source": [
    "periodofrelationship = 15\n",
    "purchaseamount = 5000\n",
    "eligible = (periodofrelationship>=10 and purchaseamount>4000)\n",
    "print(eligible)\n"
   ]
  },
  {
   "cell_type": "code",
   "execution_count": 53,
   "id": "491ea24a",
   "metadata": {},
   "outputs": [
    {
     "name": "stdout",
     "output_type": "stream",
     "text": [
      "the answer is True\n"
     ]
    }
   ],
   "source": [
    "print\n",
    "(\"A lottery is being played. The lucky winning number has been determined to be AN981728. Every time a ticket bearer presents their ticket, we have to decide – is this the winning ticket?\")\n",
    "winningnumber = \"AN981728\"\n",
    "presentednumber = \"AN981728\"\n",
    "\n",
    "iswinner =(winningnumber == presentednumber)\n",
    "print(\"the answer is %s\"%iswinner)\n"
   ]
  },
  {
   "cell_type": "code",
   "execution_count": 64,
   "id": "9d1379cc",
   "metadata": {},
   "outputs": [
    {
     "name": "stdout",
     "output_type": "stream",
     "text": [
      "True\n",
      "the candidate aged 31 and weighed 76 has passed the screening: True\n"
     ]
    }
   ],
   "source": [
    "age = 31\n",
    "weight = 76\n",
    "screening = ((25<=age<30) and (65<weight <75)) or \\\n",
    "((30<=age<=35) and (75<=weight<85))\n",
    "print(screening)\n",
    "print (\"the candidate aged %i and weighed %i has passed the screening: %s\" %(age, weight, screening))"
   ]
  },
  {
   "cell_type": "code",
   "execution_count": 70,
   "id": "da628909",
   "metadata": {},
   "outputs": [
    {
     "name": "stdout",
     "output_type": "stream",
     "text": [
      "410\n",
      "False\n",
      "the value x 410 is less than or equal to 245: False\n"
     ]
    }
   ],
   "source": [
    "import random\n",
    "x = random.randint(100,600)\n",
    "print(x)\n",
    "correct =(x<=245)\n",
    "print(correct)\n",
    "print(\"the value x %i is less than or equal to 245: %s\" %(x,correct))"
   ]
  },
  {
   "cell_type": "code",
   "execution_count": 4,
   "id": "b5dd7826",
   "metadata": {
    "scrolled": true
   },
   "outputs": [
    {
     "name": "stdout",
     "output_type": "stream",
     "text": [
      "The total amount payable for 3 Samsung J2 phones is 48701.000000\n"
     ]
    }
   ],
   "source": [
    "Statement: \"The program to calculate the total purchase amount for mobile phones is now running\"\n",
    "listPrice = 16000\n",
    "numberOfPhones = 3\n",
    "listPrice *=numberOfPhones\n",
    "listPrice *=.88\n",
    "listPrice *=1.15\n",
    "deliveryCharge = 125\n",
    "totalAmount = listPrice + deliveryCharge\n",
    "print (\"The total amount payable for %i Samsung J2 phones is %f\"%(numberOfPhones, totalAmount))"
   ]
  },
  {
   "cell_type": "code",
   "execution_count": 10,
   "id": "0beb315a",
   "metadata": {},
   "outputs": [
    {
     "name": "stdout",
     "output_type": "stream",
     "text": [
      "The number of students in the primary section is 360\n",
      "The numner of students in the secondary sestion is  780\n",
      "The total number of students in the school is 1140\n"
     ]
    }
   ],
   "source": [
    "Statment = \"The program to calculate the student population ofa school is now running\"\n",
    "StudentsPerPrimarySectionClass = 45\n",
    "StudentsPerSecondarySectionClass = 65\n",
    "totalClasses_primarySection = 8\n",
    "totalClasses_SecondarySection = 12\n",
    "totalNoOfStudents_PrimarySection = StudentsPerPrimarySectionClass*totalClasses_primarySection\n",
    "print(\"The number of students in the primary section is\",totalNoOfStudents_PrimarySection)\n",
    "totalNoOfStudents_SecondarySection = StudentsPerSecondarySectionClass*totalClasses_SecondarySection\n",
    "print(\"The numner of students in the secondary sestion is \",totalNoOfStudents_SecondarySection)\n",
    "print(\"The total number of students in the school is\",(totalNoOfStudents_PrimarySection+totalNoOfStudents_SecondarySection))\n"
   ]
  },
  {
   "cell_type": "code",
   "execution_count": null,
   "id": "67e7695d",
   "metadata": {},
   "outputs": [],
   "source": []
  }
 ],
 "metadata": {
  "kernelspec": {
   "display_name": "Python 3",
   "language": "python",
   "name": "python3"
  },
  "language_info": {
   "codemirror_mode": {
    "name": "ipython",
    "version": 3
   },
   "file_extension": ".py",
   "mimetype": "text/x-python",
   "name": "python",
   "nbconvert_exporter": "python",
   "pygments_lexer": "ipython3",
   "version": "3.8.8"
  }
 },
 "nbformat": 4,
 "nbformat_minor": 5
}
